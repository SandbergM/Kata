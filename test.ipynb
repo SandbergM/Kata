{
 "cells": [
  {
   "cell_type": "markdown",
   "metadata": {},
   "source": [
    "```python \n",
    "\"\"\"\n",
    "Task - \n",
    "\n",
    "orders_df only contains the currency in which it was paid, but not the actual currency value/rate. \n",
    "Your task is to add the correct 'currency_to_sek' (from the 'riksbanken_exchange_rates' data) to orders_df.\n",
    "\n",
    "Unfortunately, exchange_rates_df lacks information on non-banking days. \n",
    "In the event that there is missing data for a particular date, we want to use the currency from the last ( previous ) day.\n",
    "\"\"\"\n",
    "```\n",
    "\n",
    "\n",
    "```python\n",
    "# Missing dates | 2023-12-02, 2023-12-02\n",
    "\"\"\"\n",
    "    series_id   group_id  currency_to_sek         date   currency  currency_description                            source \n",
    "    SEKEURPMI   130               11.3095   2023-12-05        EUR   117                  Euroland euro  Sveriges Riksbank \n",
    "    SEKEURPMI   130               11.3210   2023-12-04        EUR   121                  Euroland euro  Sveriges Riksbank \n",
    "    SEKEURPMI   130               11.3715   2023-12-01        EUR   126                  Euroland euro             Nasdaq  <----------\n",
    "    SEKEURPMI   130               11.4308   2023-11-30        EUR   132                  Euroland euro             Nasdaq \n",
    "    SEKEURPMI   130               11.3655   2023-11-29        EUR   138                  Euroland euro             Nasdaq \n",
    "\"\"\"\n",
    "\n",
    "# Orders placed/paid 2023-12-03\n",
    "\"\"\"\n",
    "    order_id paid_date\torder_total\tsite_name\tsite_country   currency\n",
    "    100804   2023-12-03      288.21\tstickerapp\tde             EUR\n",
    "    103266   2023-12-03      726.38\tstickerapp\tde             EUR\n",
    "    103498   2023-12-03      892.01\tstickerapp\tde             EUR\n",
    "    107816   2023-12-03      495.74\tstickerapp\tde             EUR\n",
    "\"\"\"\n",
    "\n",
    "# Expected result on this example\n",
    "\"\"\"\n",
    "    order_id paid_date\torder_total\tsite_name\tsite_country   currency  currency_to_sek\n",
    "    100804   2023-12-03      288.21\tstickerapp\tde             EUR               11.3715\n",
    "    103266   2023-12-03      726.38\tstickerapp\tde             EUR               11.3715\n",
    "    103498   2023-12-03      892.01\tstickerapp\tde             EUR               11.3715\n",
    "    107816   2023-12-03      495.74\tstickerapp\tde             EUR               11.3715\n",
    "\"\"\"\n",
    "```"
   ]
  },
  {
   "cell_type": "code",
   "execution_count": null,
   "metadata": {},
   "outputs": [],
   "source": [
    "# Pips\n",
    "%pip install pandas\n",
    "\n",
    "\n",
    "\n",
    "# Imports\n",
    "import pandas as pd"
   ]
  },
  {
   "cell_type": "code",
   "execution_count": null,
   "metadata": {},
   "outputs": [],
   "source": [
    "orders_df = pd.read_csv('./data/orders_data.csv', index_col = [0] ) # ( 2022-12-31 - 2023-12-31 )\n",
    "orders_df "
   ]
  },
  {
   "cell_type": "code",
   "execution_count": null,
   "metadata": {},
   "outputs": [],
   "source": [
    "exchange_rates_df = pd.read_csv('./data/riksbanken_exchange_rates.csv') # ( 2022-11-01 - 2024-01-10 )\n",
    "exchange_rates_df"
   ]
  },
  {
   "cell_type": "code",
   "execution_count": null,
   "metadata": {},
   "outputs": [],
   "source": [
    "###############################\n",
    "#\n",
    "# Code\n",
    "#\n",
    "###############################"
   ]
  }
 ],
 "metadata": {
  "kernelspec": {
   "display_name": "Python 3",
   "language": "python",
   "name": "python3"
  },
  "language_info": {
   "codemirror_mode": {
    "name": "ipython",
    "version": 3
   },
   "file_extension": ".py",
   "mimetype": "text/x-python",
   "name": "python",
   "nbconvert_exporter": "python",
   "pygments_lexer": "ipython3",
   "version": "3.10.0"
  }
 },
 "nbformat": 4,
 "nbformat_minor": 2
}
